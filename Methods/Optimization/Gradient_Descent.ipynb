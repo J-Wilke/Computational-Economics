{
 "cells": [
  {
   "cell_type": "code",
   "execution_count": null,
   "metadata": {},
   "outputs": [],
   "source": [
    "import numpy as np\n",
    "import matplotlib.pyplot as plt\n"
   ]
  },
  {
   "cell_type": "code",
   "execution_count": null,
   "metadata": {},
   "outputs": [],
   "source": [
    "# Function to compute the numerical gradient of function f at a point (x, y)\n",
    "def numerical_gradient(f, point, h=1e-4):\n",
    "    grad = np.zeros_like(point)\n",
    "    for i in range(len(point)):\n",
    "        point_minus = np.copy(point)\n",
    "        point_plus = np.copy(point)\n",
    "        point_minus[i] -= h\n",
    "        point_plus[i] += h\n",
    "        grad[i] = (f(point_plus) - f(point_minus)) / (2 * h)\n",
    "    return grad\n"
   ]
  },
  {
   "cell_type": "code",
   "execution_count": null,
   "metadata": {},
   "outputs": [],
   "source": [
    "# Function to perform gradient descent on function f\n",
    "def gradient_descent(f, start_point, learning_rate=0.1, num_steps=100):\n",
    "    point = start_point.copy()\n",
    "    history = [point.copy()]\n",
    "\n",
    "    for _ in range(num_steps):\n",
    "        grad = numerical_gradient(f, point)\n",
    "        point -= learning_rate * grad\n",
    "        history.append(point.copy())\n",
    "\n",
    "    return point, history\n"
   ]
  },
  {
   "cell_type": "code",
   "execution_count": null,
   "metadata": {},
   "outputs": [],
   "source": [
    "# Define the target function and the starting point\n",
    "f = lambda p: p[0]**2 + p[1]**2\n",
    "start_point = np.array([10.0, 10.0])\n",
    "\n",
    "# Compute the gradient at the starting point\n",
    "print(\"Gradient at (x, y) =\", start_point, \":\", numerical_gradient(f, start_point))\n",
    "\n",
    "final_point, history = gradient_descent(f, start_point, learning_rate=0.1, num_steps=50)\n",
    "\n",
    "print(\"Final point (x, y):\", np.round(final_point, 4))\n"
   ]
  },
  {
   "cell_type": "code",
   "execution_count": null,
   "metadata": {},
   "outputs": [],
   "source": [
    "# Extended plot function that plots the gradient descent trajectory and the optimum\n",
    "\n",
    "def plot_function_3d(f, x_range=(-5, 5), y_range=(-5, 5), num_points=400, history=None, optimum=None):\n",
    "    x_vals = np.linspace(x_range[0], x_range[1], num_points)\n",
    "    y_vals = np.linspace(y_range[0], y_range[1], num_points)\n",
    "    X, Y = np.meshgrid(x_vals, y_vals)\n",
    "\n",
    "    f_vec = np.vectorize(lambda x, y: f(np.array([x, y])))\n",
    "    Z = f_vec(X, Y)\n",
    "\n",
    "    fig = plt.figure(figsize=(10, 8))\n",
    "    ax = fig.add_subplot(111, projection='3d')\n",
    "    surface = ax.plot_surface(X, Y, Z, cmap='viridis', alpha=0.8)\n",
    "    ax.set_xlabel(\"x\")\n",
    "    ax.set_ylabel(\"y\")\n",
    "    ax.set_zlabel(\"f(x, y)\")\n",
    "    ax.set_title(\"3D Plot of f(x, y)\")\n",
    "    fig.colorbar(surface, shrink=0.5, aspect=5)\n",
    "\n",
    "    if history is not None:\n",
    "        history = np.array(history)\n",
    "        xs = history[:, 0]\n",
    "        ys = history[:, 1]\n",
    "        zs = np.array([f(np.array([x, y])) for x, y in zip(xs, ys)])\n",
    "        ax.scatter(xs, ys, zs, color='red', marker='o', s=50, label='Gradient Descent')\n",
    "        ax.plot(xs, ys, zs, color='red', linewidth=2)\n",
    "\n",
    "    if optimum is not None:\n",
    "        opt_x = optimum[0]\n",
    "        opt_y = optimum[1]\n",
    "        opt_z = f(np.array([opt_x, opt_y]))\n",
    "        ax.scatter([opt_x], [opt_y], [opt_z], color='blue', marker='o', s=50, label='Optimum')\n",
    "\n",
    "    ax.legend()\n",
    "    plt.show()\n"
   ]
  },
  {
   "cell_type": "code",
   "execution_count": null,
   "metadata": {},
   "outputs": [],
   "source": [
    "# Plot the function and the gradient descent result\n",
    "plot_function_3d(f, x_range=(-10, 10), y_range=(-10, 10), history=history, optimum=final_point)\n"
   ]
  }
 ],
 "metadata": {
  "language_info": {
   "codemirror_mode": {
    "name": "ipython",
    "version": 3
   },
   "file_extension": ".py",
   "mimetype": "text/x-python",
   "name": "python",
   "nbconvert_exporter": "python",
   "pygments_lexer": "ipython3",
   "version": 3
  }
 },
 "nbformat": 4,
 "nbformat_minor": 2
}
