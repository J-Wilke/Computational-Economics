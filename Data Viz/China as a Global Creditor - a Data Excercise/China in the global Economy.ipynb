{
 "cells": [
  {
   "cell_type": "markdown",
   "id": "9c4b1a78",
   "metadata": {},
   "source": [
    "## China as a Global Creditor - a Data Exercise\n",
    "\n",
    "#### 1. China’s International Investment Position \n",
    "Visit the website of China’s State Administration of Foreign Exchange (SAFE) and download time series data on China’s International Investment Position.\n",
    "\n",
    "Loading, transforming and cleaning the data:"
   ]
  },
  {
   "cell_type": "code",
   "execution_count": 49,
   "id": "1e06bb09",
   "metadata": {},
   "outputs": [
    {
     "name": "stderr",
     "output_type": "stream",
     "text": [
      "C:\\Users\\jonaw\\AppData\\Local\\Temp\\ipykernel_19212\\3166367532.py:14: FutureWarning: Downcasting behavior in `replace` is deprecated and will be removed in a future version. To retain the old behavior, explicitly call `result.infer_objects(copy=False)`. To opt-in to the future behavior, set `pd.set_option('future.no_silent_downcasting', True)`\n",
      "  SAFE_data_raw.replace(\"/\", np.nan, inplace=True)\n"
     ]
    },
    {
     "data": {
      "application/vnd.microsoft.datawrangler.viewer.v0+json": {
       "columns": [
        {
         "name": "index",
         "rawType": "int64",
         "type": "integer"
        },
        {
         "name": "Item",
         "rawType": "object",
         "type": "string"
        },
        {
         "name": "end-2004",
         "rawType": "float64",
         "type": "float"
        },
        {
         "name": "end-2005",
         "rawType": "float64",
         "type": "float"
        },
        {
         "name": "end-2006",
         "rawType": "float64",
         "type": "float"
        },
        {
         "name": "end-2007",
         "rawType": "float64",
         "type": "float"
        },
        {
         "name": "end-2008",
         "rawType": "float64",
         "type": "float"
        },
        {
         "name": "end-2009",
         "rawType": "float64",
         "type": "float"
        },
        {
         "name": "end-2010",
         "rawType": "float64",
         "type": "float"
        },
        {
         "name": "end-2011",
         "rawType": "float64",
         "type": "float"
        },
        {
         "name": "end-2012",
         "rawType": "float64",
         "type": "float"
        },
        {
         "name": "end-2013",
         "rawType": "float64",
         "type": "float"
        },
        {
         "name": "end-2014",
         "rawType": "float64",
         "type": "float"
        },
        {
         "name": "end-2015",
         "rawType": "float64",
         "type": "float"
        },
        {
         "name": "end-2016",
         "rawType": "float64",
         "type": "float"
        },
        {
         "name": "end-2017",
         "rawType": "float64",
         "type": "float"
        },
        {
         "name": "end-2018",
         "rawType": "float64",
         "type": "float"
        },
        {
         "name": "end-2019",
         "rawType": "float64",
         "type": "float"
        },
        {
         "name": "end-2020",
         "rawType": "float64",
         "type": "float"
        },
        {
         "name": "end-2021",
         "rawType": "float64",
         "type": "float"
        },
        {
         "name": "end-2022",
         "rawType": "float64",
         "type": "float"
        },
        {
         "name": "end-2023",
         "rawType": "float64",
         "type": "float"
        },
        {
         "name": "end-2024",
         "rawType": "float64",
         "type": "float"
        },
        {
         "name": "Side",
         "rawType": "object",
         "type": "string"
        }
       ],
       "conversionMethod": "pd.DataFrame",
       "ref": "dd8e99b1-0957-41a8-9d22-d2498bd805b8",
       "rows": [
        [
         "45",
         "4.3 Loans",
         "880.479446",
         "869.878836",
         "984.79559",
         "1033.490335",
         "1029.946605",
         "1635.935924",
         "2388.903419",
         "3723.83782",
         "3679.84557621303",
         "5641.73854319812",
         "5719.50225616541",
         "3293.0961597209",
         "3205.300662832",
         "3921.6344643483",
         "4169.2765446858",
         "4604.7180658456",
         "4413.9392527619",
         "4494.9111295323",
         "3832.3523529583",
         "3588.6726964603",
         "3259.8655658946",
         "Liabilities"
        ],
        [
         "46",
         "4.4 Insurance, pension, and standardized guarantee schemes",
         "0.0",
         "0.0",
         "0.0",
         "0.0",
         "0.0",
         "0.0",
         "0.0",
         "0.0",
         "0.0",
         "0.0",
         "0.0",
         "93.295501416",
         "88.2141419004",
         "99.5945165283",
         "109.457952641",
         "134.6172781799",
         "167.5218621373",
         "234.7775715091",
         "267.5989705859",
         "268.9543511183",
         "284.9415103465",
         "Liabilities"
        ],
        [
         "47",
         "4.5 Trade credit and advances ",
         "809.167798312725",
         "1063.28303593185",
         "1195.55350518429",
         "1486.55350518429",
         "1296.06279219806",
         "1616.64121059",
         "2111.79",
         "2492.0591",
         "2915.246576",
         "3364.62537",
         "3343.83157057",
         "2721.0",
         "2883.0",
         "3523.0",
         "3931.0",
         "3643.5",
         "3719.0000010308",
         "4228.4200040919",
         "3825.9999999163",
         "3911.0000018793",
         "4006.9999983336",
         "Liabilities"
        ],
        [
         "48",
         "4.6 Other accounts payable",
         "199.938976861656",
         "257.203655351936",
         "376.641652630323",
         "466.859674717493",
         "551.716254969282",
         "226.870983948958",
         "222.494748040837",
         "106.235382848634",
         "276.991655395437",
         "143.586017741758",
         "207.063177319807",
         "171.919163706073",
         "408.030436955873",
         "187.869028272818",
         "153.873763069229",
         "188.541657494906",
         "263.0080981956",
         "304.8154782492",
         "357.5622176641",
         "724.5075534571",
         "870.0725943029",
         "Liabilities"
        ],
        [
         "49",
         "4.7 Special drawing rights",
         "0.0",
         "0.0",
         "0.0",
         "0.0",
         "0.0",
         "0.0",
         "0.0",
         "107.31",
         "107.425636164",
         "107.640918",
         "101.225099907",
         "96.8579332219062",
         "93.964230711",
         "99.541987371",
         "97.211631393",
         "96.655253661",
         "100.674873",
         "506.7355554",
         "481.846059744",
         "485.767186872",
         "472.175394408",
         "Liabilities"
        ]
       ],
       "shape": {
        "columns": 23,
        "rows": 5
       }
      },
      "text/html": [
       "<div>\n",
       "<style scoped>\n",
       "    .dataframe tbody tr th:only-of-type {\n",
       "        vertical-align: middle;\n",
       "    }\n",
       "\n",
       "    .dataframe tbody tr th {\n",
       "        vertical-align: top;\n",
       "    }\n",
       "\n",
       "    .dataframe thead th {\n",
       "        text-align: right;\n",
       "    }\n",
       "</style>\n",
       "<table border=\"1\" class=\"dataframe\">\n",
       "  <thead>\n",
       "    <tr style=\"text-align: right;\">\n",
       "      <th></th>\n",
       "      <th>Item</th>\n",
       "      <th>end-2004</th>\n",
       "      <th>end-2005</th>\n",
       "      <th>end-2006</th>\n",
       "      <th>end-2007</th>\n",
       "      <th>end-2008</th>\n",
       "      <th>end-2009</th>\n",
       "      <th>end-2010</th>\n",
       "      <th>end-2011</th>\n",
       "      <th>end-2012</th>\n",
       "      <th>...</th>\n",
       "      <th>end-2016</th>\n",
       "      <th>end-2017</th>\n",
       "      <th>end-2018</th>\n",
       "      <th>end-2019</th>\n",
       "      <th>end-2020</th>\n",
       "      <th>end-2021</th>\n",
       "      <th>end-2022</th>\n",
       "      <th>end-2023</th>\n",
       "      <th>end-2024</th>\n",
       "      <th>Side</th>\n",
       "    </tr>\n",
       "  </thead>\n",
       "  <tbody>\n",
       "    <tr>\n",
       "      <th>45</th>\n",
       "      <td>4.3 Loans</td>\n",
       "      <td>880.479446</td>\n",
       "      <td>869.878836</td>\n",
       "      <td>984.795590</td>\n",
       "      <td>1033.490335</td>\n",
       "      <td>1029.946605</td>\n",
       "      <td>1635.935924</td>\n",
       "      <td>2388.903419</td>\n",
       "      <td>3723.837820</td>\n",
       "      <td>3679.845576</td>\n",
       "      <td>...</td>\n",
       "      <td>3205.300663</td>\n",
       "      <td>3921.634464</td>\n",
       "      <td>4169.276545</td>\n",
       "      <td>4604.718066</td>\n",
       "      <td>4413.939253</td>\n",
       "      <td>4494.911130</td>\n",
       "      <td>3832.352353</td>\n",
       "      <td>3588.672696</td>\n",
       "      <td>3259.865566</td>\n",
       "      <td>Liabilities</td>\n",
       "    </tr>\n",
       "    <tr>\n",
       "      <th>46</th>\n",
       "      <td>4.4 Insurance, pension, and standardized guara...</td>\n",
       "      <td>0.000000</td>\n",
       "      <td>0.000000</td>\n",
       "      <td>0.000000</td>\n",
       "      <td>0.000000</td>\n",
       "      <td>0.000000</td>\n",
       "      <td>0.000000</td>\n",
       "      <td>0.000000</td>\n",
       "      <td>0.000000</td>\n",
       "      <td>0.000000</td>\n",
       "      <td>...</td>\n",
       "      <td>88.214142</td>\n",
       "      <td>99.594517</td>\n",
       "      <td>109.457953</td>\n",
       "      <td>134.617278</td>\n",
       "      <td>167.521862</td>\n",
       "      <td>234.777572</td>\n",
       "      <td>267.598971</td>\n",
       "      <td>268.954351</td>\n",
       "      <td>284.941510</td>\n",
       "      <td>Liabilities</td>\n",
       "    </tr>\n",
       "    <tr>\n",
       "      <th>47</th>\n",
       "      <td>4.5 Trade credit and advances</td>\n",
       "      <td>809.167798</td>\n",
       "      <td>1063.283036</td>\n",
       "      <td>1195.553505</td>\n",
       "      <td>1486.553505</td>\n",
       "      <td>1296.062792</td>\n",
       "      <td>1616.641211</td>\n",
       "      <td>2111.790000</td>\n",
       "      <td>2492.059100</td>\n",
       "      <td>2915.246576</td>\n",
       "      <td>...</td>\n",
       "      <td>2883.000000</td>\n",
       "      <td>3523.000000</td>\n",
       "      <td>3931.000000</td>\n",
       "      <td>3643.500000</td>\n",
       "      <td>3719.000001</td>\n",
       "      <td>4228.420004</td>\n",
       "      <td>3826.000000</td>\n",
       "      <td>3911.000002</td>\n",
       "      <td>4006.999998</td>\n",
       "      <td>Liabilities</td>\n",
       "    </tr>\n",
       "    <tr>\n",
       "      <th>48</th>\n",
       "      <td>4.6 Other accounts payable</td>\n",
       "      <td>199.938977</td>\n",
       "      <td>257.203655</td>\n",
       "      <td>376.641653</td>\n",
       "      <td>466.859675</td>\n",
       "      <td>551.716255</td>\n",
       "      <td>226.870984</td>\n",
       "      <td>222.494748</td>\n",
       "      <td>106.235383</td>\n",
       "      <td>276.991655</td>\n",
       "      <td>...</td>\n",
       "      <td>408.030437</td>\n",
       "      <td>187.869028</td>\n",
       "      <td>153.873763</td>\n",
       "      <td>188.541657</td>\n",
       "      <td>263.008098</td>\n",
       "      <td>304.815478</td>\n",
       "      <td>357.562218</td>\n",
       "      <td>724.507553</td>\n",
       "      <td>870.072594</td>\n",
       "      <td>Liabilities</td>\n",
       "    </tr>\n",
       "    <tr>\n",
       "      <th>49</th>\n",
       "      <td>4.7 Special drawing rights</td>\n",
       "      <td>0.000000</td>\n",
       "      <td>0.000000</td>\n",
       "      <td>0.000000</td>\n",
       "      <td>0.000000</td>\n",
       "      <td>0.000000</td>\n",
       "      <td>0.000000</td>\n",
       "      <td>0.000000</td>\n",
       "      <td>107.310000</td>\n",
       "      <td>107.425636</td>\n",
       "      <td>...</td>\n",
       "      <td>93.964231</td>\n",
       "      <td>99.541987</td>\n",
       "      <td>97.211631</td>\n",
       "      <td>96.655254</td>\n",
       "      <td>100.674873</td>\n",
       "      <td>506.735555</td>\n",
       "      <td>481.846060</td>\n",
       "      <td>485.767187</td>\n",
       "      <td>472.175394</td>\n",
       "      <td>Liabilities</td>\n",
       "    </tr>\n",
       "  </tbody>\n",
       "</table>\n",
       "<p>5 rows × 23 columns</p>\n",
       "</div>"
      ],
      "text/plain": [
       "                                                 Item    end-2004  \\\n",
       "45                                          4.3 Loans  880.479446   \n",
       "46  4.4 Insurance, pension, and standardized guara...    0.000000   \n",
       "47                     4.5 Trade credit and advances   809.167798   \n",
       "48                         4.6 Other accounts payable  199.938977   \n",
       "49                         4.7 Special drawing rights    0.000000   \n",
       "\n",
       "       end-2005     end-2006     end-2007     end-2008     end-2009  \\\n",
       "45   869.878836   984.795590  1033.490335  1029.946605  1635.935924   \n",
       "46     0.000000     0.000000     0.000000     0.000000     0.000000   \n",
       "47  1063.283036  1195.553505  1486.553505  1296.062792  1616.641211   \n",
       "48   257.203655   376.641653   466.859675   551.716255   226.870984   \n",
       "49     0.000000     0.000000     0.000000     0.000000     0.000000   \n",
       "\n",
       "       end-2010     end-2011     end-2012  ...     end-2016     end-2017  \\\n",
       "45  2388.903419  3723.837820  3679.845576  ...  3205.300663  3921.634464   \n",
       "46     0.000000     0.000000     0.000000  ...    88.214142    99.594517   \n",
       "47  2111.790000  2492.059100  2915.246576  ...  2883.000000  3523.000000   \n",
       "48   222.494748   106.235383   276.991655  ...   408.030437   187.869028   \n",
       "49     0.000000   107.310000   107.425636  ...    93.964231    99.541987   \n",
       "\n",
       "       end-2018     end-2019     end-2020     end-2021     end-2022  \\\n",
       "45  4169.276545  4604.718066  4413.939253  4494.911130  3832.352353   \n",
       "46   109.457953   134.617278   167.521862   234.777572   267.598971   \n",
       "47  3931.000000  3643.500000  3719.000001  4228.420004  3826.000000   \n",
       "48   153.873763   188.541657   263.008098   304.815478   357.562218   \n",
       "49    97.211631    96.655254   100.674873   506.735555   481.846060   \n",
       "\n",
       "       end-2023     end-2024         Side  \n",
       "45  3588.672696  3259.865566  Liabilities  \n",
       "46   268.954351   284.941510  Liabilities  \n",
       "47  3911.000002  4006.999998  Liabilities  \n",
       "48   724.507553   870.072594  Liabilities  \n",
       "49   485.767187   472.175394  Liabilities  \n",
       "\n",
       "[5 rows x 23 columns]"
      ]
     },
     "execution_count": 49,
     "metadata": {},
     "output_type": "execute_result"
    }
   ],
   "source": [
    "import pandas as pd\n",
    "import numpy as np\n",
    "\n",
    "# Import Excel\n",
    "SAFE_data_raw = pd.read_excel(\n",
    "    r\"C:\\Users\\jonaw\\OneDrive\\Dokumente\\Coding\\Computational Economics\"\n",
    "    r\"\\Data Viz\\China as a Global Creditor - a Data Excercise\"\n",
    "    r\"\\data\\The time-series data of International Investment Position of China.xlsx\",\n",
    "    sheet_name=\"Annual(USD)\",\n",
    "    header=2\n",
    ")\n",
    "\n",
    "# Replace / with NaN\n",
    "SAFE_data_raw.replace(\"/\", np.nan, inplace=True)\n",
    "SAFE_data_raw = SAFE_data_raw.infer_objects()\n",
    "\n",
    "# Create side for Assets and Liabilities\n",
    "SAFE_data_raw['Side'] = (\n",
    "    SAFE_data_raw['Item']\n",
    "      .where(SAFE_data_raw['Item'].isin(['Assets','Liabilities']))\n",
    "      .ffill()\n",
    ")\n",
    "\n",
    "\n",
    "# Drop first row and rows from 50\n",
    "SAFE_data_raw = SAFE_data_raw.iloc[1:].reset_index(drop=True)\n",
    "SAFE_data_raw = SAFE_data_raw.iloc[:50].copy()\n",
    "\n",
    "# Check if the last row is correct\n",
    "SAFE_data_raw.tail()\n",
    "\n"
   ]
  },
  {
   "cell_type": "code",
   "execution_count": 50,
   "id": "599f503e",
   "metadata": {},
   "outputs": [
    {
     "data": {
      "application/vnd.microsoft.datawrangler.viewer.v0+json": {
       "columns": [
        {
         "name": "index",
         "rawType": "int64",
         "type": "integer"
        },
        {
         "name": "Side",
         "rawType": "object",
         "type": "unknown"
        },
        {
         "name": "Category",
         "rawType": "object",
         "type": "string"
        },
        {
         "name": "Year",
         "rawType": "int32",
         "type": "integer"
        },
        {
         "name": "Value",
         "rawType": "float64",
         "type": "float"
        }
       ],
       "conversionMethod": "pd.DataFrame",
       "ref": "beaf4ede-a131-4f37-a298-6d026bd95704",
       "rows": [
        [
         "0",
         null,
         "Net International Investment Position",
         "2004",
         "2407.83185510927"
        ],
        [
         "1",
         "Assets",
         "Assets",
         "2004",
         "9361.97240935707"
        ],
        [
         "2",
         "Assets",
         "  1 Direct investment ",
         "2004",
         "596.393975073763"
        ],
        [
         "3",
         "Assets",
         "1.1 Equity and investment fund shares ",
         "2004",
         "583.393475073763"
        ],
        [
         "4",
         "Assets",
         "1.2 Debt instruments",
         "2004",
         "13.0005"
        ]
       ],
       "shape": {
        "columns": 4,
        "rows": 5
       }
      },
      "text/html": [
       "<div>\n",
       "<style scoped>\n",
       "    .dataframe tbody tr th:only-of-type {\n",
       "        vertical-align: middle;\n",
       "    }\n",
       "\n",
       "    .dataframe tbody tr th {\n",
       "        vertical-align: top;\n",
       "    }\n",
       "\n",
       "    .dataframe thead th {\n",
       "        text-align: right;\n",
       "    }\n",
       "</style>\n",
       "<table border=\"1\" class=\"dataframe\">\n",
       "  <thead>\n",
       "    <tr style=\"text-align: right;\">\n",
       "      <th></th>\n",
       "      <th>Side</th>\n",
       "      <th>Category</th>\n",
       "      <th>Year</th>\n",
       "      <th>Value</th>\n",
       "    </tr>\n",
       "  </thead>\n",
       "  <tbody>\n",
       "    <tr>\n",
       "      <th>0</th>\n",
       "      <td>NaN</td>\n",
       "      <td>Net International Investment Position</td>\n",
       "      <td>2004</td>\n",
       "      <td>2407.831855</td>\n",
       "    </tr>\n",
       "    <tr>\n",
       "      <th>1</th>\n",
       "      <td>Assets</td>\n",
       "      <td>Assets</td>\n",
       "      <td>2004</td>\n",
       "      <td>9361.972409</td>\n",
       "    </tr>\n",
       "    <tr>\n",
       "      <th>2</th>\n",
       "      <td>Assets</td>\n",
       "      <td>1 Direct investment</td>\n",
       "      <td>2004</td>\n",
       "      <td>596.393975</td>\n",
       "    </tr>\n",
       "    <tr>\n",
       "      <th>3</th>\n",
       "      <td>Assets</td>\n",
       "      <td>1.1 Equity and investment fund shares</td>\n",
       "      <td>2004</td>\n",
       "      <td>583.393475</td>\n",
       "    </tr>\n",
       "    <tr>\n",
       "      <th>4</th>\n",
       "      <td>Assets</td>\n",
       "      <td>1.2 Debt instruments</td>\n",
       "      <td>2004</td>\n",
       "      <td>13.000500</td>\n",
       "    </tr>\n",
       "  </tbody>\n",
       "</table>\n",
       "</div>"
      ],
      "text/plain": [
       "     Side                                Category  Year        Value\n",
       "0     NaN   Net International Investment Position  2004  2407.831855\n",
       "1  Assets                                  Assets  2004  9361.972409\n",
       "2  Assets                    1 Direct investment   2004   596.393975\n",
       "3  Assets  1.1 Equity and investment fund shares   2004   583.393475\n",
       "4  Assets                    1.2 Debt instruments  2004    13.000500"
      ]
     },
     "execution_count": 50,
     "metadata": {},
     "output_type": "execute_result"
    }
   ],
   "source": [
    "# Transform the data to long format\n",
    "SAFE_data_long = (\n",
    "    SAFE_data_raw\n",
    "      .melt(id_vars=['Side','Item'], var_name='Year', value_name='Value')\n",
    "      .rename(columns={'Item':'Category'})\n",
    ")\n",
    "\n",
    "# Clean up Year: remove “end-” and make it integer\n",
    "SAFE_data_long[\"Year\"] = (\n",
    "    SAFE_data_long[\"Year\"]\n",
    "      .str.replace(\"end-\", \"\", regex=False)\n",
    "      .astype(int)\n",
    ")\n",
    "\n",
    "# Set value to numeric\n",
    "SAFE_data_long[\"Value\"] = pd.to_numeric(SAFE_data_long[\"Value\"], errors=\"coerce\")\n",
    "\n",
    "SAFE_data_long.head()\n"
   ]
  },
  {
   "cell_type": "markdown",
   "id": "4c3d96c2",
   "metadata": {},
   "source": [
    "1a. Is China a net creditor or a net debtor towards the rest of the world? How has its net asset position evolved over the past 20 years?"
   ]
  },
  {
   "cell_type": "code",
   "execution_count": 47,
   "id": "b536971e",
   "metadata": {},
   "outputs": [
    {
     "data": {
      "image/png": "[encoded data removed]",
      "text/plain": [
       "<Figure size 800x500 with 1 Axes>"
      ]
     },
     "metadata": {},
     "output_type": "display_data"
    },
    {
     "name": "stdout",
     "output_type": "stream",
     "text": [
      "NIIP change (2004-2024):1268.77%\n"
     ]
    }
   ],
   "source": [
    "import matplotlib.pyplot as plt\n",
    "# Define the Net International Investment Position (NIIP) (Assets - Liabilities)\n",
    "niip = SAFE_data_long[SAFE_data_long[\"Category\"] == \"Net International Investment Position\"]\n",
    "\n",
    "plt.figure(figsize=(8,5))\n",
    "plt.plot(niip.Year, niip.Value, 'o-', color=\"#DE2910\" )\n",
    "\n",
    "# Set x-ticks\n",
    "plt.xticks(niip.Year, rotation=45)\n",
    "\n",
    "# Shade under the line\n",
    "plt.fill_between(niip.Year,niip.Value,color=\"#DE2910\",alpha=0.1)\n",
    "\n",
    "plt.title(\"China’s Net International Investment Position (NIIP)\")\n",
    "plt.xlabel(\"Year\")\n",
    "plt.ylabel(\"NIIP (100 million USD)\")\n",
    "plt.tight_layout()\n",
    "plt.show()\n",
    "\n",
    "# grab 2004 and 2024\n",
    "NIIP_2004 = niip.loc[niip.Year == 2004, \"Value\"].item()\n",
    "NIIP_2024= niip.loc[niip.Year == 2024, \"Value\"].item()\n",
    "\n",
    "NIIP_change  = (NIIP_2024 / NIIP_2004 - 1) * 100\n",
    "print(f\"NIIP change (2004-2024):{NIIP_change:.2f}%\")"
   ]
  },
  {
   "cell_type": "markdown",
   "id": "194c9583",
   "metadata": {},
   "source": [
    "**Answer 1.a** : Over the last twenty years China has been a net creditor for the rest a the world, as its external assets exceeds its liabilities by far. The NIIP increased by about 1.268% (not inflation-adjusted)."
   ]
  },
  {
   "cell_type": "markdown",
   "id": "c0b64681",
   "metadata": {},
   "source": [
    "1b. Show graphically how the composition of China’s external assets and liabilities looked in 2007 at the onset of the Global Financial Crisis and how it looks today. Explain how China’s investments and liabilities have evolved over time. Which types of assets and liabilities have become more or less important?"
   ]
  }
 ],
 "metadata": {
  "kernelspec": {
   "display_name": "Python 3",
   "language": "python",
   "name": "python3"
  },
  "language_info": {
   "codemirror_mode": {
    "name": "ipython",
    "version": 3
   },
   "file_extension": ".py",
   "mimetype": "text/x-python",
   "name": "python",
   "nbconvert_exporter": "python",
   "pygments_lexer": "ipython3",
   "version": "3.11.9"
  }
 },
 "nbformat": 4,
 "nbformat_minor": 5
}
